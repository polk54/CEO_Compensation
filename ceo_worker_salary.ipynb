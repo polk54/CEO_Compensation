{
 "cells": [
  {
   "cell_type": "code",
   "execution_count": 53,
   "metadata": {},
   "outputs": [],
   "source": [
    "#source: https://www.vox.com/recode/2019/5/2/18522927/ceo-pay-ratio-tech-employee-salary-2018\n",
    "#source: https://www.epi.org/publication/ceo-compensation-surged-in-2017/\n",
    "\n",
    "import altair as alt\n",
    "import pandas as pd"
   ]
  },
  {
   "cell_type": "code",
   "execution_count": 72,
   "metadata": {},
   "outputs": [],
   "source": [
    "data = pd.DataFrame({'Year': ['1965','1973','1978','1989','1995','2000','2007','2009','2013','2014','2015','2016','1965','1973','1978','1989','1995','2000','2007','2009','2013','2014','2015','2016'],\n",
    "                     'Salary': [902,1177,1612,3004,5830,21048,19503,10983,15903,16843,16564,16030,40.9,48,49.1,46.7,46.8,49.4,51.4,53.4,52.9,53.1,53.9,54.5],\n",
    "                     'type':[\"CEO\",\"CEO\",\"CEO\",\"CEO\",\"CEO\",\"CEO\",\"CEO\",\"CEO\",\"CEO\",\"CEO\",\"CEO\",\"CEO\",\"Worker\",\"Worker\",\"Worker\",\"Worker\",\"Worker\",\"Worker\",\"Worker\",\"Worker\",\"Worker\",\"Worker\",\"Worker\",\"Worker\"]\n",
    "})\n",
    "alt.Chart(data,\n",
    "        width=400,\n",
    "        height=8000\n",
    "    ).mark_circle(\n",
    "        size=200,\n",
    "    ).encode(\n",
    "        x='Year',\n",
    "        y='Salary',\n",
    "        # Categorizing data by \"region\" and adding a legend\n",
    "        color=alt.Color('type', scale=alt.Scale(scheme='dark2'), legend=alt.Legend(title=\"Type\")),\n",
    "        # Adding the tooltip\n",
    "        tooltip=[alt.Tooltip(\"type\", title=\"Type\"),\n",
    "            alt.Tooltip(\"Salary\", title=\"Salary (thousands $)\"),\n",
    "            alt.Tooltip(\"Year\", title=\"Year\")],\n",
    "    ).properties(\n",
    "        #title of chart\n",
    "        title=\"CEO & worker compensation (thousands $)\",\n",
    "        width=400,\n",
    "        height=8000,\n",
    "    ).save(\n",
    "        \"index.html\"\n",
    ")"
   ]
  },
  {
   "cell_type": "code",
   "execution_count": null,
   "metadata": {},
   "outputs": [],
   "source": []
  }
 ],
 "metadata": {
  "kernelspec": {
   "display_name": "Python 3",
   "language": "python",
   "name": "python3"
  },
  "language_info": {
   "codemirror_mode": {
    "name": "ipython",
    "version": 3
   },
   "file_extension": ".py",
   "mimetype": "text/x-python",
   "name": "python",
   "nbconvert_exporter": "python",
   "pygments_lexer": "ipython3",
   "version": "3.6.0"
  }
 },
 "nbformat": 4,
 "nbformat_minor": 2
}
